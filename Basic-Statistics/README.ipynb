{
 "cells": [
  {
   "cell_type": "markdown",
   "metadata": {},
   "source": [
    "# Basic Statistical Concepts\n",
    "This note outlines some of the basic statistical concepts, explained in simple terms without substantial mathematical equations and derivations (yay!), which I had to learn for my interests and career development.\n",
    "\n",
    "#### Standard deviation\n",
    "It quantifies how much the data is spread out. \n",
    "\n",
    "#### Standard Error\n",
    "The standard deviation of all sample mean's mean: quantifies how far the sample mean is from the true population mean\n",
    "\n",
    "#### Variance\n",
    "<!-- h<sub>&theta;</sub>(x) = &theta;<sub>o</sub> x + &theta;<sub>1</sub>x -->\n",
    "<img src=\"https://latex.codecogs.com/svg.latex?\\Large&space;\\sigma^2=\\frac{\\sum_{i=1}^{i=N} (x_{i}-\\tilde{x})^2}{N}\" title=\"Equation for variance\">\n",
    "\n",
    "#### Hypothesis Testing"
   ]
  },
  {
   "cell_type": "code",
   "execution_count": null,
   "metadata": {},
   "outputs": [],
   "source": []
  }
 ],
 "metadata": {
  "kernelspec": {
   "display_name": "Python 3",
   "language": "python",
   "name": "python3"
  },
  "language_info": {
   "codemirror_mode": {
    "name": "ipython",
    "version": 3
   },
   "file_extension": ".py",
   "mimetype": "text/x-python",
   "name": "python",
   "nbconvert_exporter": "python",
   "pygments_lexer": "ipython3",
   "version": "3.6.8"
  }
 },
 "nbformat": 4,
 "nbformat_minor": 2
}
